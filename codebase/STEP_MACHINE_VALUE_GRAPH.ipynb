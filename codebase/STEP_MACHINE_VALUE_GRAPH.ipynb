{
 "cells": [
  {
   "cell_type": "code",
   "execution_count": 1,
   "metadata": {
    "collapsed": false
   },
   "outputs": [],
   "source": [
    "from test2 import Model\n",
    "from pandas import DataFrame, Series\n",
    "import matplotlib.pyplot as plt\n",
    "import pandas as pd\n",
    "from Preprocessing import Data\n",
    "from Preprocessing import Preprocessing\n",
    "from Classifier import Classifier\n",
    "from Dummy import Analysis\n",
    "\n",
    "#%matplotlib inline"
   ]
  },
  {
   "cell_type": "code",
   "execution_count": 2,
   "metadata": {
    "collapsed": true
   },
   "outputs": [],
   "source": [
    "class Prepare(object):\n",
    "    def __init__(self, source='../input/raw_data.txt'):\n",
    "        self.preprocess_data(source)\n",
    "        self.perform_classfier()\n",
    "        self.perform_analysis()\n",
    "    \n",
    "    def preprocess_data(self, source):\n",
    "        preprocessing = Preprocessing(source)\n",
    "        preprocessing.Incomplete_wafer(preprocessing.data)\n",
    "        preprocessing.wafer_count(preprocessing.data, 23)\n",
    "        print(len(preprocessing.data))\n",
    "        preprocessing.chamber_variety(preprocessing.data, 20)\n",
    "        print(len(preprocessing.data))\n",
    "        preprocessing.period(preprocessing.data)\n",
    "        print(len(preprocessing.data))\n",
    "        preprocessing.main(preprocessing.data)\n",
    "        print(len(preprocessing.data))\n",
    "        self.preprocessed_data = preprocessing.data\n",
    "        print(len(self.preprocessed_data))\n",
    "    \n",
    "    def perform_classfier(self):\n",
    "        classifier = Classifier(self.preprocessed_data)\n",
    "        classifier.create_wafer_data()\n",
    "        print(\"created wafer_data.csv\")\n",
    "        print(len(classifier.wafer_data))\n",
    "        classifier.wafer_data.to_csv('../result/wafer_data.csv', sep=',', index = False)\n",
    "        classifier.relative_ratio_mean_criterion(80,20)\n",
    "        \n",
    "        classifier.create_wafer_BOB_WOW_group()\n",
    "        print(\"created wafer_BOB_WOW_Group.csv\")\n",
    "        print(len(classifier.wafer_BOB_WOW_Group))\n",
    "        classifier.wafer_BOB_WOW_Group.to_csv('../result/wafer_BOB_WOW_group.csv', sep=',')\n",
    "        classifier.create_chamber_perf()\n",
    "        print(\"created chamber_perf\")\n",
    "        print(len(classifier.chamber_perf))\n",
    "        classifier.chamber_perf.to_csv('../result/chamber_perf.csv', sep=',')\n",
    "        \n",
    "    def perform_analysis(self):\n",
    "        print(\"Analysis begins\")\n",
    "        analyzer = Analysis()\n",
    "        print(\"KS_test begins\")\n",
    "        analyzer.create_KS_test()\n",
    "        print(\"KS_test completed\")\n",
    "        print(\"ANOVA begins\")\n",
    "        analyzer.create_ANOVA()\n",
    "        print(\"ANOVA completed\")\n",
    "        print(\"KRUSKAL begins\")\n",
    "        analyzer.create_Kruskal()\n",
    "        print(\"KRUSKAL completed\")\n",
    "        print(\"Linear_Contrasts begins\")\n",
    "        analyzer.create_stat_analysis()\n",
    "        print(\"Linear_Contrasts completed\")\n",
    "        print(\"Multiple t-test begins\")\n",
    "        analyzer.create_mt_stat_test()\n",
    "        print(\"Multiple t-test completed\")\n",
    "        print(\"User_defined test begins\")\n",
    "        analyzer.create_user_defined_analysis()\n",
    "        print(\"User_defined test completed\")\n",
    "        analyzer.create_combined_results()\n",
    "        print(\"create chamber_info\")\n",
    "        analyzer.create_chamber_info()\n",
    "        #print(\"create chamber_comparison\")\n",
    "        #analyzer.create_chamber_comparison()"
   ]
  },
  {
   "cell_type": "code",
   "execution_count": 30,
   "metadata": {
    "collapsed": false,
    "scrolled": true
   },
   "outputs": [],
   "source": [
    "class STEP_GRAPH(object):\n",
    "    def __init__(self):\n",
    "        self.model = Model() \n",
    "        self.high_subset = self.model.high_subset\n",
    "        self.low_subset = self.model.low_subset\n",
    "        self.machine_list = self.high_subset + self.low_subset\n",
    "        self.wafer_data = pd.read_csv('../result/wafer_data.csv', index_col = False)\n",
    "    def assign_step(self):\n",
    "        self.machine_dict = {}\n",
    "        for machine in self.machine_list:\n",
    "            step = machine[:8]\n",
    "            if step in self.machine_dict.keys():\n",
    "                self.machine_dict[step].append(machine)\n",
    "            else:\n",
    "                self.machine_dict[step] = [machine]\n",
    "                \n",
    "    def calculate_range(self):\n",
    "        pass\n",
    "    \n",
    "    def create_line_graph(self):\n",
    "        def change_index_value(x):\n",
    "            new_index = []\n",
    "            for index in x.tolist():\n",
    "                new_index.append(index[5:])\n",
    "            return new_index\n",
    "        \n",
    "        for step in self.machine_dict.keys():\n",
    "            machines = self.machine_dict[step]\n",
    "            #step_machine_value = self.wafer_data.loc[self.wafer_data['S_E_CHAMBER_ID'] == machines[0],['TKIN_TIME','VALUE']]\n",
    "            #step_machine_value = step_machine_value.groupby('TKIN_TIME').mean()\n",
    "            count = 0\n",
    "            min_value = 9999\n",
    "            for machine in machines:\n",
    "                if count == 0:\n",
    "                    step_machine_value = self.wafer_data.loc[self.wafer_data['S_E_CHAMBER_ID'] == machine,['TKIN_TIME','VALUE']].groupby('TKIN_TIME').mean()\n",
    "                    \n",
    "                    if min_value > min(step_machine_value['VALUE']):\n",
    "                        min_value = min(step_machine_value['VALUE'])\n",
    "                    \n",
    "                    if machine in self.high_subset:\n",
    "                        step_machine_value.columns = ['BOB_' + machine]\n",
    "                    else:\n",
    "                        step_machine_value.columns = ['WOW_' + machine]\n",
    "                else:\n",
    "                    temp = self.wafer_data.loc[self.wafer_data['S_E_CHAMBER_ID'] == machine,['TKIN_TIME','VALUE']]\n",
    "                    temp = temp.groupby('TKIN_TIME').mean()\n",
    "                    \n",
    "                    if min_value > min(temp['VALUE']):\n",
    "                        min_value = min(temp['VALUE'])\n",
    "                    \n",
    "                    if machine in self.high_subset:\n",
    "                        temp.columns = ['BOB_' + machine]\n",
    "                    else:\n",
    "                        temp.columns = ['WOW_' + machine]\n",
    "                    step_machine_value = pd.concat([step_machine_value,temp], axis=1)\n",
    "                count+=1\n",
    "            step_machine_value.index = change_index_value(step_machine_value.index)\n",
    "            step_machine_value = step_machine_value.fillna(method='ffill')\n",
    "            fig = plt.figure(); \n",
    "            font = {'family': 'normal', 'weight': 'bold', 'size': 3}\n",
    "            plt.rc('font', **font)\n",
    "            ax = step_machine_value.plot(style='-');\n",
    "            #plt.legend(loc='best', prop={'size':6})\n",
    "            plt.ylim(ymin=min_value-1)\n",
    "            \n",
    "            box = ax.get_position()\n",
    "            ax.set_position([box.x0, box.y0, box.width *0.8, box.height])\n",
    "            ax.legend(loc='center left', bbox_to_anchor=(1, 0.5))\n",
    "            \n",
    "            plt.savefig('../result/graph/{}.png'.format(step), dpi=300)\n",
    "            \n",
    "    def create_scatter_graph(self):\n",
    "        def change_index_value(x):\n",
    "            new_index = []\n",
    "            for index in x.tolist():\n",
    "                new_index.append(index[5:])\n",
    "            return new_index\n",
    "        \n",
    "        for step in self.machine_dict.keys():\n",
    "            machines = self.machine_dict[step]\n",
    "            #step_machine_value = self.wafer_data.loc[self.wafer_data['S_E_CHAMBER_ID'] == machines[0],['TKIN_TIME','VALUE']]\n",
    "            #step_machine_value = step_machine_value.groupby('TKIN_TIME').mean()\n",
    "            count = 0\n",
    "            min_value = 9999\n",
    "            for machine in machines:\n",
    "                if count == 0:\n",
    "                    step_machine_value = self.wafer_data.loc[self.wafer_data['S_E_CHAMBER_ID'] == machine,['TKIN_TIME','VALUE']].groupby('TKIN_TIME').mean()\n",
    "                    \n",
    "                    if min_value > min(step_machine_value['VALUE']):\n",
    "                        min_value = min(step_machine_value['VALUE'])\n",
    "                        \n",
    "                    if machine in self.high_subset:\n",
    "                        step_machine_value.columns = ['BOB_' + machine]\n",
    "                    else:\n",
    "                        step_machine_value.columns = ['WOW_' + machine]\n",
    "                        \n",
    "                    \n",
    "                else:\n",
    "                    temp = self.wafer_data.loc[self.wafer_data['S_E_CHAMBER_ID'] == machine,['TKIN_TIME','VALUE']]\n",
    "                    temp = temp.groupby('TKIN_TIME').mean()\n",
    "                    \n",
    "                    if min_value > min(temp['VALUE']):\n",
    "                        min_value = min(temp['VALUE'])\n",
    "                        \n",
    "                    if machine in self.high_subset:\n",
    "                        temp.columns = ['BOB_' + machine]\n",
    "                    else:\n",
    "                        temp.columns = ['WOW_' + machine]\n",
    "                    step_machine_value = pd.concat([step_machine_value,temp], axis=1)\n",
    "                count+=1\n",
    "            step_machine_value.index = change_index_value(step_machine_value.index)\n",
    "            #step_machine_value = step_machine_value.fillna(method='ffill')\n",
    "            fig = plt.figure();\n",
    "            font = {'family': 'normal', 'weight': 'bold', 'size': 3}\n",
    "            plt.rc('font', **font)\n",
    "            ax = step_machine_value.plot(style='.-');\n",
    "            #plt.legend(loc='best', prop={'size':6})\n",
    "            #print(min_value)\n",
    "            plt.ylim(ymin=min_value-1)\n",
    "            \n",
    "            box = ax.get_position()\n",
    "            ax.set_position([box.x0, box.y0, box.width *0.8, box.height])\n",
    "            ax.legend(loc='center left', bbox_to_anchor=(1, 0.5))\n",
    "            \n",
    "            plt.savefig('../result/graph/{}.png'.format(step), dpi=300)"
   ]
  },
  {
   "cell_type": "code",
   "execution_count": 4,
   "metadata": {
    "collapsed": false,
    "scrolled": true
   },
   "outputs": [
    {
     "name": "stdout",
     "output_type": "stream",
     "text": [
      "DATA class\n",
      "1121347\n",
      "processing begins\n",
      "process 1 finished\n",
      "1098877\n"
     ]
    },
    {
     "name": "stderr",
     "output_type": "stream",
     "text": [
      "C:\\Users\\ProDesk\\Desktop\\LAB\\SAMSUNG_PROJECT\\IMPLE\\codebase\\Preprocessing.py:52: SettingWithCopyWarning: \n",
      "A value is trying to be set on a copy of a slice from a DataFrame\n",
      "\n",
      "See the caveats in the documentation: http://pandas.pydata.org/pandas-docs/stable/indexing.html#indexing-view-versus-copy\n",
      "  Preprocessed_data_2['CHAMBER_ID'][idx] = value\n"
     ]
    },
    {
     "name": "stdout",
     "output_type": "stream",
     "text": [
      "process 2 finished\n",
      "1098877\n",
      "process 3 finished\n",
      "1095269\n",
      "PREPROCESSING class\n",
      "1095269\n",
      "942379\n",
      "942379\n",
      "323804\n",
      "115192\n",
      "115192\n",
      "CLASSIFIER class\n"
     ]
    },
    {
     "name": "stderr",
     "output_type": "stream",
     "text": [
      "C:\\Users\\ProDesk\\Desktop\\LAB\\SAMSUNG_PROJECT\\IMPLE\\codebase\\Classifier.py:21: SettingWithCopyWarning: \n",
      "A value is trying to be set on a copy of a slice from a DataFrame.\n",
      "Try using .loc[row_indexer,col_indexer] = value instead\n",
      "\n",
      "See the caveats in the documentation: http://pandas.pydata.org/pandas-docs/stable/indexing.html#indexing-view-versus-copy\n",
      "  self.wafer_data['TKIN_TIME'] =  self.wafer_data['TKIN_TIME'].map(lambda t: t.strftime('%Y-%m-%d %H'))\n"
     ]
    },
    {
     "name": "stdout",
     "output_type": "stream",
     "text": [
      "created wafer_data.csv\n",
      "114847\n",
      "created wafer_BOB_WOW_Group.csv\n",
      "114847\n",
      "created chamber_perf\n",
      "501\n",
      "Analysis begins\n",
      "KS_test begins\n",
      "KS_test completed\n",
      "ANOVA begins\n",
      "ANOVA completed\n",
      "KRUSKAL begins\n",
      "KRUSKAL completed\n",
      "Linear_Contrasts begins\n"
     ]
    },
    {
     "name": "stderr",
     "output_type": "stream",
     "text": [
      "C:\\Users\\ProDesk\\Anaconda3\\envs\\python2\\lib\\site-packages\\scipy\\stats\\stats.py:4660: DeprecationWarning: Calling `mannwhitneyu` without specifying `alternative` is deprecated.\n",
      "  \"`alternative` is deprecated.\", DeprecationWarning)\n",
      "C:\\Users\\ProDesk\\Desktop\\LAB\\SAMSUNG_PROJECT\\IMPLE\\codebase\\Dummy.py:212: SettingWithCopyWarning: \n",
      "A value is trying to be set on a copy of a slice from a DataFrame\n",
      "\n",
      "See the caveats in the documentation: http://pandas.pydata.org/pandas-docs/stable/indexing.html#indexing-view-versus-copy\n",
      "  self.chamber_stat_LC['LC_p_value'][row.name]  = p_value\n",
      "C:\\Users\\ProDesk\\Desktop\\LAB\\SAMSUNG_PROJECT\\IMPLE\\codebase\\Dummy.py:215: SettingWithCopyWarning: \n",
      "A value is trying to be set on a copy of a slice from a DataFrame\n",
      "\n",
      "See the caveats in the documentation: http://pandas.pydata.org/pandas-docs/stable/indexing.html#indexing-view-versus-copy\n",
      "  self.chamber_stat_LC['LCresult'][row.name] = 'BOB'\n",
      "C:\\Users\\ProDesk\\Desktop\\LAB\\SAMSUNG_PROJECT\\IMPLE\\codebase\\Dummy.py:217: SettingWithCopyWarning: \n",
      "A value is trying to be set on a copy of a slice from a DataFrame\n",
      "\n",
      "See the caveats in the documentation: http://pandas.pydata.org/pandas-docs/stable/indexing.html#indexing-view-versus-copy\n",
      "  self.chamber_stat_LC['LCresult'][row.name] = 'DUMMY'\n",
      "C:\\Users\\ProDesk\\Desktop\\LAB\\SAMSUNG_PROJECT\\IMPLE\\codebase\\Dummy.py:223: SettingWithCopyWarning: \n",
      "A value is trying to be set on a copy of a slice from a DataFrame\n",
      "\n",
      "See the caveats in the documentation: http://pandas.pydata.org/pandas-docs/stable/indexing.html#indexing-view-versus-copy\n",
      "  self.chamber_stat_LC['LC_p_value'][row.name]  = p_value\n",
      "C:\\Users\\ProDesk\\Desktop\\LAB\\SAMSUNG_PROJECT\\IMPLE\\codebase\\Dummy.py:225: SettingWithCopyWarning: \n",
      "A value is trying to be set on a copy of a slice from a DataFrame\n",
      "\n",
      "See the caveats in the documentation: http://pandas.pydata.org/pandas-docs/stable/indexing.html#indexing-view-versus-copy\n",
      "  self.chamber_stat_LC['LCresult'][row.name] = 'WOW'\n",
      "C:\\Users\\ProDesk\\Desktop\\LAB\\SAMSUNG_PROJECT\\IMPLE\\codebase\\Dummy.py:227: SettingWithCopyWarning: \n",
      "A value is trying to be set on a copy of a slice from a DataFrame\n",
      "\n",
      "See the caveats in the documentation: http://pandas.pydata.org/pandas-docs/stable/indexing.html#indexing-view-versus-copy\n",
      "  self.chamber_stat_LC['LCresult'][row.name] = 'DUMMY'\n"
     ]
    },
    {
     "name": "stdout",
     "output_type": "stream",
     "text": [
      "Linear_Contrasts completed\n",
      "Multiple t-test begins\n"
     ]
    },
    {
     "name": "stderr",
     "output_type": "stream",
     "text": [
      "C:\\Users\\ProDesk\\Desktop\\LAB\\SAMSUNG_PROJECT\\IMPLE\\codebase\\Dummy.py:344: SettingWithCopyWarning: \n",
      "A value is trying to be set on a copy of a slice from a DataFrame\n",
      "\n",
      "See the caveats in the documentation: http://pandas.pydata.org/pandas-docs/stable/indexing.html#indexing-view-versus-copy\n",
      "  self.chamber_stat_MTTest['t_test_result'][BOB] = 'BOB'\n",
      "C:\\Users\\ProDesk\\Desktop\\LAB\\SAMSUNG_PROJECT\\IMPLE\\codebase\\Dummy.py:345: SettingWithCopyWarning: \n",
      "A value is trying to be set on a copy of a slice from a DataFrame\n",
      "\n",
      "See the caveats in the documentation: http://pandas.pydata.org/pandas-docs/stable/indexing.html#indexing-view-versus-copy\n",
      "  self.chamber_stat_MTTest['t_test_result'][WOW] = 'WOW'\n"
     ]
    },
    {
     "name": "stdout",
     "output_type": "stream",
     "text": [
      "Multiple t-test completed\n",
      "User_defined test begins\n",
      "User_defined test completed\n",
      "create chamber_info\n"
     ]
    },
    {
     "name": "stderr",
     "output_type": "stream",
     "text": [
      "C:\\Users\\ProDesk\\Anaconda3\\envs\\python2\\lib\\site-packages\\pandas\\tools\\merge.py:536: UserWarning: merging between different levels can give an unintended result (1 levels on the left, 2 on the right)\n",
      "  warnings.warn(msg, UserWarning)\n"
     ]
    }
   ],
   "source": [
    "prepare = Prepare()"
   ]
  },
  {
   "cell_type": "markdown",
   "metadata": {},
   "source": [
    "## MAIN"
   ]
  },
  {
   "cell_type": "code",
   "execution_count": 63,
   "metadata": {
    "collapsed": false
   },
   "outputs": [
    {
     "name": "stderr",
     "output_type": "stream",
     "text": [
      "C:\\Users\\ProDesk\\Desktop\\LAB\\SAMSUNG_PROJECT\\IMPLE\\codebase\\test2.py:62: SettingWithCopyWarning: \n",
      "A value is trying to be set on a copy of a slice from a DataFrame\n",
      "\n",
      "See the caveats in the documentation: http://pandas.pydata.org/pandas-docs/stable/indexing.html#indexing-view-versus-copy\n",
      "  self.wafer_info_dummy['FROM'][self.wafer_info_dummy['FROM'].isin(self.wafer_group.loc[self.wafer_group['LCresult'] == 'DUMMY','S_E_CHAMBER_ID'])] = self.wafer_info_dummy['FROM'][self.wafer_info_dummy['FROM'].isin(self.wafer_group.loc[self.wafer_group['LCresult'] == 'DUMMY','S_E_CHAMBER_ID'])].apply(dummy)\n",
      "C:\\Users\\ProDesk\\Desktop\\LAB\\SAMSUNG_PROJECT\\IMPLE\\codebase\\test2.py:64: SettingWithCopyWarning: \n",
      "A value is trying to be set on a copy of a slice from a DataFrame\n",
      "\n",
      "See the caveats in the documentation: http://pandas.pydata.org/pandas-docs/stable/indexing.html#indexing-view-versus-copy\n",
      "  self.wafer_info_dummy['TO'][self.wafer_info_dummy['TO'].isin(self.wafer_group.loc[self.wafer_group['LCresult'] == 'DUMMY','S_E_CHAMBER_ID'])] = self.wafer_info_dummy['TO'][self.wafer_info_dummy['TO'].isin(self.wafer_group.loc[self.wafer_group['LCresult'] == 'DUMMY','S_E_CHAMBER_ID'])].apply(dummy)\n",
      "C:\\Users\\ProDesk\\Anaconda3\\envs\\python2\\lib\\site-packages\\matplotlib\\pyplot.py:524: RuntimeWarning: More than 20 figures have been opened. Figures created through the pyplot interface (`matplotlib.pyplot.figure`) are retained until explicitly closed and may consume too much memory. (To control this warning, see the rcParam `figure.max_open_warning`).\n",
      "  max_open_warning, RuntimeWarning)\n",
      "C:\\Users\\ProDesk\\Anaconda3\\envs\\python2\\lib\\site-packages\\matplotlib\\font_manager.py:1297: UserWarning: findfont: Font family ['normal'] not found. Falling back to DejaVu Sans\n",
      "  (prop.get_family(), self.defaultFamily[fontext]))\n",
      "C:\\Users\\ProDesk\\Anaconda3\\envs\\python2\\lib\\site-packages\\matplotlib\\axes\\_base.py:2903: UserWarning: Attempting to set identical left==right results\n",
      "in singular transformations; automatically expanding.\n",
      "left=0.0, right=0.0\n",
      "  'left=%s, right=%s') % (left, right))\n"
     ]
    }
   ],
   "source": [
    "\n",
    "\n",
    "graph = STEP_GRAPH()\n",
    "graph.assign_step()\n",
    "#Line graph를 원하는 경우\n",
    "graph.create_line_graph()\n",
    "#Scatter-line graph를 원하는 경우\n",
    "#graph.create_scatter_graph()"
   ]
  }
 ],
 "metadata": {
  "kernelspec": {
   "display_name": "Python 3",
   "language": "python",
   "name": "python3"
  },
  "language_info": {
   "codemirror_mode": {
    "name": "ipython",
    "version": 3
   },
   "file_extension": ".py",
   "mimetype": "text/x-python",
   "name": "python",
   "nbconvert_exporter": "python",
   "pygments_lexer": "ipython3",
   "version": "3.4.5"
  }
 },
 "nbformat": 4,
 "nbformat_minor": 2
}
